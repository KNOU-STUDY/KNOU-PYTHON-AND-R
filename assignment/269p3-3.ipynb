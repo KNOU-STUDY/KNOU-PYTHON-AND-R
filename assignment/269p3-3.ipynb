{
 "cells": [
  {
   "cell_type": "code",
   "execution_count": 1,
   "id": "dd7d33ca",
   "metadata": {},
   "outputs": [],
   "source": [
    "import pandas as pd\n",
    "import matplotlib.pyplot as plt\n",
    "import seaborn as sns"
   ]
  },
  {
   "cell_type": "code",
   "execution_count": 2,
   "id": "3ee60bd7",
   "metadata": {},
   "outputs": [],
   "source": [
    "# pima = pd.read_csv('../data/pima2.csv')"
   ]
  },
  {
   "cell_type": "code",
   "execution_count": 3,
   "id": "d634dd06",
   "metadata": {},
   "outputs": [],
   "source": [
    "# columns= ['20~30', '31~40', '41~50', '50+']\n",
    "# data = [pima.loc[20 <= pima.age][pima.age <= 30]['age'].to_numpy(), \n",
    "#          pima.loc[31 <= pima.age][pima.age <= 40]['age'].to_numpy(), \n",
    "#          pima.loc[41 <= pima.age][pima.age <= 50]['age'].to_numpy(),\n",
    "#          pima.loc[51 <= pima.age]['age'].to_numpy()]\n",
    "# print(pd.DataFrame(index, columns=columns))\n",
    "# table = pd.crosstab(index=index,columns='count')\n",
    "# print(table)"
   ]
  },
  {
   "cell_type": "code",
   "execution_count": 4,
   "id": "627d1a44",
   "metadata": {},
   "outputs": [],
   "source": [
    "# pd.crosstab(index=pima.loc[20 <= pima.age][pima.age <= 30]['age'], columns=['diabetes'])"
   ]
  },
  {
   "cell_type": "code",
   "execution_count": 5,
   "id": "f34f748d",
   "metadata": {},
   "outputs": [
    {
     "name": "stdout",
     "output_type": "stream",
     "text": [
      "diabetes  neg  pos\n",
      "age               \n",
      "20~30     327   90\n",
      "31~40      81   76\n",
      "41~50      49   64\n",
      "50+        43   38\n"
     ]
    },
    {
     "data": {
      "text/plain": [
       "<AxesSubplot:xlabel='age'>"
      ]
     },
     "execution_count": 5,
     "metadata": {},
     "output_type": "execute_result"
    },
    {
     "data": {
      "image/png": "[encoded data removed]",
      "text/plain": [
       "<Figure size 432x288 with 1 Axes>"
      ]
     },
     "metadata": {
      "needs_background": "light"
     },
     "output_type": "display_data"
    }
   ],
   "source": [
    "pima = pd.read_csv('../data/pima2.csv')\n",
    "def classify(age):\n",
    "    if age<=19:\n",
    "        return '0~19'\n",
    "    elif 20<=age<=30:\n",
    "        return '20~30'\n",
    "    elif 31<=age<=40:\n",
    "        return '31~40'\n",
    "    elif 41<=age<=50:\n",
    "        return '41~50'\n",
    "    else:\n",
    "        return '50+'\n",
    "pima['age'] = pima['age'].apply(classify)\n",
    "table = pd.crosstab(index=pima['age'], columns=pima['diabetes'])\n",
    "print(table)\n",
    "table.plot.bar(stacked=True)"
   ]
  },
  {
   "cell_type": "code",
   "execution_count": null,
   "id": "1648ee7a",
   "metadata": {},
   "outputs": [],
   "source": []
  }
 ],
 "metadata": {
  "kernelspec": {
   "display_name": "Python 3 (ipykernel)",
   "language": "python",
   "name": "python3"
  },
  "language_info": {
   "codemirror_mode": {
    "name": "ipython",
    "version": 3
   },
   "file_extension": ".py",
   "mimetype": "text/x-python",
   "name": "python",
   "nbconvert_exporter": "python",
   "pygments_lexer": "ipython3",
   "version": "3.10.0"
  }
 },
 "nbformat": 4,
 "nbformat_minor": 5
}
