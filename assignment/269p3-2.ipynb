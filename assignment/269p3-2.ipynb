{
 "cells": [
  {
   "cell_type": "code",
   "execution_count": 2,
   "id": "30516223",
   "metadata": {},
   "outputs": [],
   "source": [
    "import pandas as pd\n",
    "import matplotlib.pyplot as plt\n",
    "import seaborn as sns"
   ]
  },
  {
   "cell_type": "code",
   "execution_count": 3,
   "id": "9b3946a9",
   "metadata": {},
   "outputs": [],
   "source": [
    "pima = pd.read_csv('../data/pima2.csv')"
   ]
  },
  {
   "cell_type": "code",
   "execution_count": 4,
   "id": "ddf69c0e",
   "metadata": {},
   "outputs": [],
   "source": [
    "describe=pima.groupby('diabetes').describe()"
   ]
  },
  {
   "cell_type": "code",
   "execution_count": 5,
   "id": "3336884f",
   "metadata": {},
   "outputs": [
    {
     "name": "stdout",
     "output_type": "stream",
     "text": [
      "########## glucose\n",
      "          count        mean        std   min    25%    50%    75%    max\n",
      "diabetes                                                                \n",
      "neg       497.0  110.643863  24.776906  44.0   93.0  107.0  125.0  197.0\n",
      "pos       266.0  142.319549  29.599199  78.0  119.0  140.0  167.0  199.0\n",
      "########## pressure\n",
      "          count       mean        std   min   25%   50%   75%    max\n",
      "diabetes                                                            \n",
      "neg       481.0  70.877339  12.161223  24.0  62.0  70.0  78.0  122.0\n",
      "pos       252.0  75.321429  12.299866  30.0  68.0  74.5  84.0  114.0\n",
      "########## triceps\n",
      "          count       mean        std  min   25%   50%   75%   max\n",
      "diabetes                                                          \n",
      "neg       361.0  27.235457  10.026491  7.0  19.0  27.0  33.0  60.0\n",
      "pos       180.0  33.000000  10.327595  7.0  27.0  32.0  39.0  99.0\n",
      "########## insulin\n",
      "          count        mean         std   min    25%    50%     75%    max\n",
      "diabetes                                                                  \n",
      "neg       264.0  130.287879  102.482237  15.0   66.0  102.5  161.25  744.0\n",
      "pos       130.0  206.846154  132.699898  14.0  127.5  169.5  239.25  846.0\n",
      "########## mass\n",
      "          count       mean       std   min   25%   50%     75%   max\n",
      "diabetes                                                            \n",
      "neg       491.0  30.859674  6.560737  18.2  25.6  30.1  35.300  57.3\n",
      "pos       266.0  35.406767  6.614982  22.9  30.9  34.3  38.925  67.1\n",
      "########## pedigree\n",
      "          count      mean       std    min      25%    50%      75%    max\n",
      "diabetes                                                                  \n",
      "neg       500.0  0.429734  0.299085  0.078  0.22975  0.336  0.56175  2.329\n",
      "pos       268.0  0.550500  0.372354  0.088  0.26250  0.449  0.72800  2.420\n",
      "########## age\n",
      "          count       mean        std   min   25%   50%   75%   max\n",
      "diabetes                                                           \n",
      "neg       500.0  31.190000  11.667655  21.0  23.0  27.0  37.0  81.0\n",
      "pos       268.0  37.067164  10.968254  21.0  28.0  36.0  44.0  70.0\n"
     ]
    }
   ],
   "source": [
    "for col in ['glucose', 'pressure', 'triceps', 'insulin', 'mass', 'pedigree', 'age']:\n",
    "    print('#'*10+' '+col)\n",
    "    result = describe[col]\n",
    "    print(result)"
   ]
  },
  {
   "cell_type": "code",
   "execution_count": null,
   "id": "3b7b4d93",
   "metadata": {},
   "outputs": [],
   "source": []
  }
 ],
 "metadata": {
  "kernelspec": {
   "display_name": "Python 3 (ipykernel)",
   "language": "python",
   "name": "python3"
  },
  "language_info": {
   "codemirror_mode": {
    "name": "ipython",
    "version": 3
   },
   "file_extension": ".py",
   "mimetype": "text/x-python",
   "name": "python",
   "nbconvert_exporter": "python",
   "pygments_lexer": "ipython3",
   "version": "3.8.12"
  }
 },
 "nbformat": 4,
 "nbformat_minor": 5
}
