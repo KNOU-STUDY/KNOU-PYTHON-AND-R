{
 "cells": [
  {
   "cell_type": "code",
   "execution_count": 1,
   "id": "9362e1bd",
   "metadata": {},
   "outputs": [],
   "source": [
    "import pandas as pd\n",
    "import matplotlib.pyplot as plt\n",
    "import seaborn as sns"
   ]
  },
  {
   "cell_type": "code",
   "execution_count": 2,
   "id": "4837308e",
   "metadata": {},
   "outputs": [],
   "source": [
    "pima = pd.read_csv('../data/pima2.csv')"
   ]
  },
  {
   "cell_type": "code",
   "execution_count": 10,
   "id": "70865769",
   "metadata": {},
   "outputs": [
    {
     "name": "stdout",
     "output_type": "stream",
     "text": [
      "          count        mean        std   min    25%    50%    75%    max\n",
      "diabetes                                                                \n",
      "neg       497.0  110.643863  24.776906  44.0   93.0  107.0  125.0  197.0\n",
      "pos       266.0  142.319549  29.599199  78.0  119.0  140.0  167.0  199.0\n",
      "          count       mean        std   min   25%   50%   75%    max\n",
      "diabetes                                                            \n",
      "neg       481.0  70.877339  12.161223  24.0  62.0  70.0  78.0  122.0\n",
      "pos       252.0  75.321429  12.299866  30.0  68.0  74.5  84.0  114.0\n",
      "          count       mean        std  min   25%   50%   75%   max\n",
      "diabetes                                                          \n",
      "neg       361.0  27.235457  10.026491  7.0  19.0  27.0  33.0  60.0\n",
      "pos       180.0  33.000000  10.327595  7.0  27.0  32.0  39.0  99.0\n",
      "          count        mean         std   min    25%    50%     75%    max\n",
      "diabetes                                                                  \n",
      "neg       264.0  130.287879  102.482237  15.0   66.0  102.5  161.25  744.0\n",
      "pos       130.0  206.846154  132.699898  14.0  127.5  169.5  239.25  846.0\n",
      "          count       mean       std   min   25%   50%     75%   max\n",
      "diabetes                                                            \n",
      "neg       491.0  30.859674  6.560737  18.2  25.6  30.1  35.300  57.3\n",
      "pos       266.0  35.406767  6.614982  22.9  30.9  34.3  38.925  67.1\n",
      "          count      mean       std    min      25%    50%      75%    max\n",
      "diabetes                                                                  \n",
      "neg       500.0  0.429734  0.299085  0.078  0.22975  0.336  0.56175  2.329\n",
      "pos       268.0  0.550500  0.372354  0.088  0.26250  0.449  0.72800  2.420\n"
     ]
    }
   ],
   "source": [
    "for col in ['glucose', 'pressure', 'triceps', 'insulin', 'mass', 'pedigree']:\n",
    "    print(pima.groupby('diabetes').describe()[col])"
   ]
  },
  {
   "cell_type": "code",
   "execution_count": 15,
   "id": "552c7c2a",
   "metadata": {},
   "outputs": [
    {
     "name": "stdout",
     "output_type": "stream",
     "text": [
      "          count        mean        std   min    25%    50%     75%    max\n",
      "pregnant                                                                 \n",
      "0~5       545.0  118.968807  29.488173  44.0   97.0  114.0  137.00  199.0\n",
      "10+        34.0  124.764706  25.601916  76.0  104.5  128.0  142.25  175.0\n",
      "6~10      184.0  129.168478  33.157496  57.0  105.0  124.0  154.00  197.0\n",
      "          count       mean        std   min   25%   50%   75%    max\n",
      "pregnant                                                            \n",
      "0~5       525.0  70.897143  12.464641  24.0  62.0  70.0  78.0  122.0\n",
      "10+        32.0  78.843750  11.676028  60.0  72.0  77.0  84.0  114.0\n",
      "6~10      176.0  75.732955  11.242890  44.0  68.0  76.0  84.0  110.0\n",
      "          count       mean        std  min   25%   50%   75%   max\n",
      "pregnant                                                          \n",
      "0~5       408.0  28.365196  10.971326  8.0  20.0  28.0  36.0  99.0\n",
      "10+        24.0  32.666667   9.608269  7.0  29.5  33.0  40.0  54.0\n",
      "6~10      109.0  31.330275   8.104703  7.0  26.0  32.0  37.0  49.0\n",
      "          count        mean         std   min     25%    50%     75%    max\n",
      "pregnant                                                                   \n",
      "0~5       308.0  148.623377  119.858634  14.0   73.75  115.0  182.00  846.0\n",
      "10+        16.0  151.250000   77.024239  29.0  110.00  142.0  158.50  325.0\n",
      "6~10       70.0  187.000000  117.992631  48.0  114.25  155.5  227.25  600.0\n",
      "          count       mean       std   min     25%    50%     75%   max\n",
      "pregnant                                                               \n",
      "0~5       542.0  32.382103  7.199186  18.2  27.300  32.00  36.775  67.1\n",
      "10+        34.0  35.691176  6.858146  22.2  30.375  36.35  40.425  52.3\n",
      "6~10      181.0  32.075691  5.905794  19.6  27.600  32.40  35.500  50.0\n",
      "          count      mean       std    min     25%    50%      75%    max\n",
      "pregnant                                                                 \n",
      "0~5       549.0  0.472659  0.341328  0.078  0.2440  0.368  0.60500  2.420\n",
      "10+        34.0  0.469824  0.308713  0.126  0.2465  0.395  0.58175  1.353\n",
      "6~10      185.0  0.469930  0.305826  0.084  0.2380  0.382  0.67200  1.476\n"
     ]
    }
   ],
   "source": [
    "def classify(pregnant):\n",
    "    if pregnant<=5:\n",
    "        return '0~5'\n",
    "    elif 6<=pregnant<=10:\n",
    "        return '6~10'\n",
    "    else:\n",
    "        return '10+'\n",
    "pima['pregnant'] = pima['pregnant'].apply(classify)\n",
    "for col in ['glucose', 'pressure', 'triceps', 'insulin', 'mass', 'pedigree']:\n",
    "    print(pima.groupby('pregnant').describe()[col])"
   ]
  },
  {
   "cell_type": "code",
   "execution_count": null,
   "id": "50046e8b",
   "metadata": {},
   "outputs": [],
   "source": []
  }
 ],
 "metadata": {
  "kernelspec": {
   "display_name": "Python 3 (ipykernel)",
   "language": "python",
   "name": "python3"
  },
  "language_info": {
   "codemirror_mode": {
    "name": "ipython",
    "version": 3
   },
   "file_extension": ".py",
   "mimetype": "text/x-python",
   "name": "python",
   "nbconvert_exporter": "python",
   "pygments_lexer": "ipython3",
   "version": "3.10.0"
  }
 },
 "nbformat": 4,
 "nbformat_minor": 5
}
