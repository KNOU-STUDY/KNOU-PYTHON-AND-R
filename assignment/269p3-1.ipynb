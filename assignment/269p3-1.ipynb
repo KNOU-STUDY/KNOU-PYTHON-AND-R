{
 "cells": [
  {
   "cell_type": "code",
   "execution_count": 2,
   "id": "b36364f6",
   "metadata": {},
   "outputs": [],
   "source": [
    "import pandas as pd\n",
    "import matplotlib.pyplot as plt"
   ]
  },
  {
   "cell_type": "code",
   "execution_count": 3,
   "id": "ae664cc9",
   "metadata": {},
   "outputs": [],
   "source": [
    "pima = pd.read_csv('../data/pima2.csv')"
   ]
  },
  {
   "cell_type": "code",
   "execution_count": 4,
   "id": "f7b5b3c8",
   "metadata": {},
   "outputs": [],
   "source": [
    "describe=pima.groupby('diabetes')['Unnamed: 0'].describe()\n",
    "describe['rate'] = pima.groupby('diabetes')['age'].describe()['count'] / sum(pima.groupby('diabetes')['age'].describe()['count']) * 100"
   ]
  },
  {
   "cell_type": "code",
   "execution_count": 5,
   "id": "160fb96d",
   "metadata": {},
   "outputs": [
    {
     "data": {
      "text/html": [
       "<div>\n",
       "<style scoped>\n",
       "    .dataframe tbody tr th:only-of-type {\n",
       "        vertical-align: middle;\n",
       "    }\n",
       "\n",
       "    .dataframe tbody tr th {\n",
       "        vertical-align: top;\n",
       "    }\n",
       "\n",
       "    .dataframe thead th {\n",
       "        text-align: right;\n",
       "    }\n",
       "</style>\n",
       "<table border=\"1\" class=\"dataframe\">\n",
       "  <thead>\n",
       "    <tr style=\"text-align: right;\">\n",
       "      <th></th>\n",
       "      <th>count</th>\n",
       "      <th>mean</th>\n",
       "      <th>std</th>\n",
       "      <th>min</th>\n",
       "      <th>25%</th>\n",
       "      <th>50%</th>\n",
       "      <th>75%</th>\n",
       "      <th>max</th>\n",
       "      <th>rate</th>\n",
       "    </tr>\n",
       "    <tr>\n",
       "      <th>diabetes</th>\n",
       "      <th></th>\n",
       "      <th></th>\n",
       "      <th></th>\n",
       "      <th></th>\n",
       "      <th></th>\n",
       "      <th></th>\n",
       "      <th></th>\n",
       "      <th></th>\n",
       "      <th></th>\n",
       "    </tr>\n",
       "  </thead>\n",
       "  <tbody>\n",
       "    <tr>\n",
       "      <th>neg</th>\n",
       "      <td>500.0</td>\n",
       "      <td>391.834000</td>\n",
       "      <td>218.266881</td>\n",
       "      <td>2.0</td>\n",
       "      <td>200.00</td>\n",
       "      <td>405.0</td>\n",
       "      <td>573.25</td>\n",
       "      <td>768.0</td>\n",
       "      <td>65.104167</td>\n",
       "    </tr>\n",
       "    <tr>\n",
       "      <th>pos</th>\n",
       "      <td>268.0</td>\n",
       "      <td>370.817164</td>\n",
       "      <td>228.158464</td>\n",
       "      <td>1.0</td>\n",
       "      <td>188.75</td>\n",
       "      <td>353.0</td>\n",
       "      <td>582.00</td>\n",
       "      <td>767.0</td>\n",
       "      <td>34.895833</td>\n",
       "    </tr>\n",
       "  </tbody>\n",
       "</table>\n",
       "</div>"
      ],
      "text/plain": [
       "          count        mean         std  min     25%    50%     75%    max  \\\n",
       "diabetes                                                                     \n",
       "neg       500.0  391.834000  218.266881  2.0  200.00  405.0  573.25  768.0   \n",
       "pos       268.0  370.817164  228.158464  1.0  188.75  353.0  582.00  767.0   \n",
       "\n",
       "               rate  \n",
       "diabetes             \n",
       "neg       65.104167  \n",
       "pos       34.895833  "
      ]
     },
     "execution_count": 5,
     "metadata": {},
     "output_type": "execute_result"
    }
   ],
   "source": [
    "describe"
   ]
  },
  {
   "cell_type": "code",
   "execution_count": 6,
   "id": "01025ffb",
   "metadata": {},
   "outputs": [
    {
     "data": {
      "text/plain": [
       "Index(['neg', 'pos'], dtype='object', name='diabetes')"
      ]
     },
     "execution_count": 6,
     "metadata": {},
     "output_type": "execute_result"
    }
   ],
   "source": [
    "describe.index"
   ]
  },
  {
   "cell_type": "code",
   "execution_count": 7,
   "id": "da495afa",
   "metadata": {},
   "outputs": [
    {
     "data": {
      "text/plain": [
       "<BarContainer object of 2 artists>"
      ]
     },
     "execution_count": 7,
     "metadata": {},
     "output_type": "execute_result"
    },
    {
     "data": {
      "image/png": "[encoded data removed]",
      "text/plain": [
       "<Figure size 432x288 with 1 Axes>"
      ]
     },
     "metadata": {
      "needs_background": "light"
     },
     "output_type": "display_data"
    }
   ],
   "source": [
    "plt.bar(describe.index, describe['count'])"
   ]
  },
  {
   "cell_type": "code",
   "execution_count": 8,
   "id": "135a9b3f",
   "metadata": {},
   "outputs": [
    {
     "data": {
      "text/plain": [
       "([<matplotlib.patches.Wedge at 0x1a09d813bb0>,\n",
       "  <matplotlib.patches.Wedge at 0x1a09d844130>],\n",
       " [Text(-0.5025943242672991, 0.9784676515931925, 'neg'),\n",
       "  Text(0.5025944158780503, -0.9784676045369114, 'pos')])"
      ]
     },
     "execution_count": 8,
     "metadata": {},
     "output_type": "execute_result"
    },
    {
     "data": {
      "image/png": "[encoded data removed]",
      "text/plain": [
       "<Figure size 432x288 with 1 Axes>"
      ]
     },
     "metadata": {},
     "output_type": "display_data"
    }
   ],
   "source": [
    "plt.pie(describe['count'],labels=describe.index)"
   ]
  },
  {
   "cell_type": "code",
   "execution_count": 9,
   "id": "ac32cf2c",
   "metadata": {},
   "outputs": [
    {
     "data": {
      "text/plain": [
       "diabetes\n",
       "neg    500.0\n",
       "pos    268.0\n",
       "Name: count, dtype: float64"
      ]
     },
     "execution_count": 9,
     "metadata": {},
     "output_type": "execute_result"
    }
   ],
   "source": [
    "describe['count']"
   ]
  }
 ],
 "metadata": {
  "kernelspec": {
   "display_name": "Python 3 (ipykernel)",
   "language": "python",
   "name": "python3"
  },
  "language_info": {
   "codemirror_mode": {
    "name": "ipython",
    "version": 3
   },
   "file_extension": ".py",
   "mimetype": "text/x-python",
   "name": "python",
   "nbconvert_exporter": "python",
   "pygments_lexer": "ipython3",
   "version": "3.10.0"
  }
 },
 "nbformat": 4,
 "nbformat_minor": 5
}
