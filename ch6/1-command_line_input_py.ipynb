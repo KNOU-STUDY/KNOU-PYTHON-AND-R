{
 "cells": [
  {
   "cell_type": "code",
   "execution_count": 1,
   "id": "daf7a9a9",
   "metadata": {},
   "outputs": [],
   "source": [
    "import datetime"
   ]
  },
  {
   "cell_type": "code",
   "execution_count": 5,
   "id": "2437a619",
   "metadata": {},
   "outputs": [],
   "source": [
    "def birthyear():\n",
    "    age = input('Enter age: ')\n",
    "    now = datetime.datetime.now()\n",
    "    curyear = now.year\n",
    "    b_year = curyear-int(age)\n",
    "    print('born.year= ', b_year)"
   ]
  },
  {
   "cell_type": "code",
   "execution_count": 6,
   "id": "327d9481",
   "metadata": {},
   "outputs": [
    {
     "name": "stdout",
     "output_type": "stream",
     "text": [
      "Enter age: 50\n",
      "born.year=  1971\n"
     ]
    }
   ],
   "source": [
    "birthyear()"
   ]
  },
  {
   "cell_type": "code",
   "execution_count": null,
   "id": "ce7e681c",
   "metadata": {},
   "outputs": [],
   "source": []
  }
 ],
 "metadata": {
  "kernelspec": {
   "display_name": "Python 3",
   "language": "python",
   "name": "python3"
  },
  "language_info": {
   "codemirror_mode": {
    "name": "ipython",
    "version": 3
   },
   "file_extension": ".py",
   "mimetype": "text/x-python",
   "name": "python",
   "nbconvert_exporter": "python",
   "pygments_lexer": "ipython3",
   "version": "3.8.8"
  }
 },
 "nbformat": 4,
 "nbformat_minor": 5
}
