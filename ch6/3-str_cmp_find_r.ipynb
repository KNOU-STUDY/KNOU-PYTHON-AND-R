{
 "cells": [
  {
   "cell_type": "code",
   "execution_count": 1,
   "id": "4896d97c",
   "metadata": {},
   "outputs": [],
   "source": [
    "a <- 'abcdefgabcab'"
   ]
  },
  {
   "cell_type": "code",
   "execution_count": 2,
   "id": "d4c08132",
   "metadata": {},
   "outputs": [
    {
     "data": {
      "text/html": [
       "'defg'"
      ],
      "text/latex": [
       "'defg'"
      ],
      "text/markdown": [
       "'defg'"
      ],
      "text/plain": [
       "[1] \"defg\""
      ]
     },
     "metadata": {},
     "output_type": "display_data"
    }
   ],
   "source": [
    "substr(a, 4, 7)"
   ]
  },
  {
   "cell_type": "code",
   "execution_count": 3,
   "id": "d0d052ab",
   "metadata": {},
   "outputs": [
    {
     "data": {
      "text/html": [
       "1"
      ],
      "text/latex": [
       "1"
      ],
      "text/markdown": [
       "1"
      ],
      "text/plain": [
       "[1] 1\n",
       "attr(,\"match.length\")\n",
       "[1] 1\n",
       "attr(,\"index.type\")\n",
       "[1] \"chars\"\n",
       "attr(,\"useBytes\")\n",
       "[1] TRUE"
      ]
     },
     "metadata": {},
     "output_type": "display_data"
    }
   ],
   "source": [
    "regexpr('a', a, fixed=T, useB=F)"
   ]
  },
  {
   "cell_type": "code",
   "execution_count": 4,
   "id": "41bf1cda",
   "metadata": {},
   "outputs": [
    {
     "data": {
      "text/html": [
       "1"
      ],
      "text/latex": [
       "1"
      ],
      "text/markdown": [
       "1"
      ],
      "text/plain": [
       "[1] 1"
      ]
     },
     "metadata": {},
     "output_type": "display_data"
    }
   ],
   "source": [
    "regexpr('a', a, fixed=T, useB=F)[1]"
   ]
  },
  {
   "cell_type": "code",
   "execution_count": 5,
   "id": "5222ca7b",
   "metadata": {},
   "outputs": [
    {
     "data": {
      "text/html": [
       "<style>\n",
       ".list-inline {list-style: none; margin:0; padding: 0}\n",
       ".list-inline>li {display: inline-block}\n",
       ".list-inline>li:not(:last-child)::after {content: \"\\00b7\"; padding: 0 .5ex}\n",
       "</style>\n",
       "<ol class=list-inline><li>1</li><li>8</li><li>11</li></ol>\n"
      ],
      "text/latex": [
       "\\begin{enumerate*}\n",
       "\\item 1\n",
       "\\item 8\n",
       "\\item 11\n",
       "\\end{enumerate*}\n"
      ],
      "text/markdown": [
       "1. 1\n",
       "2. 8\n",
       "3. 11\n",
       "\n",
       "\n"
      ],
      "text/plain": [
       "[1]  1  8 11"
      ]
     },
     "metadata": {},
     "output_type": "display_data"
    }
   ],
   "source": [
    "unlist(gregexpr('a', a, fixed=T, useB=F))"
   ]
  },
  {
   "cell_type": "code",
   "execution_count": 7,
   "id": "96e9c68a",
   "metadata": {},
   "outputs": [],
   "source": [
    "strvec <- c('Abc', 'bcd', 'cdef', 'defg')"
   ]
  },
  {
   "cell_type": "code",
   "execution_count": 8,
   "id": "bb7a94de",
   "metadata": {},
   "outputs": [
    {
     "data": {
      "text/html": [
       "<style>\n",
       ".list-inline {list-style: none; margin:0; padding: 0}\n",
       ".list-inline>li {display: inline-block}\n",
       ".list-inline>li:not(:last-child)::after {content: \"\\00b7\"; padding: 0 .5ex}\n",
       "</style>\n",
       "<ol class=list-inline><li>1</li><li>2</li></ol>\n"
      ],
      "text/latex": [
       "\\begin{enumerate*}\n",
       "\\item 1\n",
       "\\item 2\n",
       "\\end{enumerate*}\n"
      ],
      "text/markdown": [
       "1. 1\n",
       "2. 2\n",
       "\n",
       "\n"
      ],
      "text/plain": [
       "[1] 1 2"
      ]
     },
     "metadata": {},
     "output_type": "display_data"
    }
   ],
   "source": [
    "grep('b', strvec)"
   ]
  },
  {
   "cell_type": "code",
   "execution_count": 9,
   "id": "ab0995c6",
   "metadata": {},
   "outputs": [
    {
     "data": {
      "text/html": [
       "<style>\n",
       ".list-inline {list-style: none; margin:0; padding: 0}\n",
       ".list-inline>li {display: inline-block}\n",
       ".list-inline>li:not(:last-child)::after {content: \"\\00b7\"; padding: 0 .5ex}\n",
       "</style>\n",
       "<ol class=list-inline><li>TRUE</li><li>TRUE</li><li>FALSE</li><li>FALSE</li></ol>\n"
      ],
      "text/latex": [
       "\\begin{enumerate*}\n",
       "\\item TRUE\n",
       "\\item TRUE\n",
       "\\item FALSE\n",
       "\\item FALSE\n",
       "\\end{enumerate*}\n"
      ],
      "text/markdown": [
       "1. TRUE\n",
       "2. TRUE\n",
       "3. FALSE\n",
       "4. FALSE\n",
       "\n",
       "\n"
      ],
      "text/plain": [
       "[1]  TRUE  TRUE FALSE FALSE"
      ]
     },
     "metadata": {},
     "output_type": "display_data"
    }
   ],
   "source": [
    "grepl('b', strvec)"
   ]
  },
  {
   "cell_type": "code",
   "execution_count": 10,
   "id": "aa4bccc4",
   "metadata": {},
   "outputs": [
    {
     "data": {
      "text/html": [
       "'AAbcdefgabcab'"
      ],
      "text/latex": [
       "'AAbcdefgabcab'"
      ],
      "text/markdown": [
       "'AAbcdefgabcab'"
      ],
      "text/plain": [
       "[1] \"AAbcdefgabcab\""
      ]
     },
     "metadata": {},
     "output_type": "display_data"
    }
   ],
   "source": [
    "sub('a', 'AA', a)"
   ]
  },
  {
   "cell_type": "code",
   "execution_count": 11,
   "id": "cf2de318",
   "metadata": {},
   "outputs": [
    {
     "data": {
      "text/html": [
       "'AAbcdefgAAbcAAb'"
      ],
      "text/latex": [
       "'AAbcdefgAAbcAAb'"
      ],
      "text/markdown": [
       "'AAbcdefgAAbcAAb'"
      ],
      "text/plain": [
       "[1] \"AAbcdefgAAbcAAb\""
      ]
     },
     "metadata": {},
     "output_type": "display_data"
    }
   ],
   "source": [
    "gsub('a', 'AA', a)"
   ]
  }
 ],
 "metadata": {
  "kernelspec": {
   "display_name": "R",
   "language": "R",
   "name": "ir"
  },
  "language_info": {
   "codemirror_mode": "r",
   "file_extension": ".r",
   "mimetype": "text/x-r-source",
   "name": "R",
   "pygments_lexer": "r",
   "version": "4.0.3"
  }
 },
 "nbformat": 4,
 "nbformat_minor": 5
}
