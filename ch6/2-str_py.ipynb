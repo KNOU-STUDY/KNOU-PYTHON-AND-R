{
 "cells": [
  {
   "cell_type": "code",
   "execution_count": 1,
   "id": "c9f51617",
   "metadata": {},
   "outputs": [],
   "source": [
    "a = 'abc'"
   ]
  },
  {
   "cell_type": "code",
   "execution_count": 2,
   "id": "dc2f6d44",
   "metadata": {},
   "outputs": [
    {
     "data": {
      "text/plain": [
       "3"
      ]
     },
     "execution_count": 2,
     "metadata": {},
     "output_type": "execute_result"
    }
   ],
   "source": [
    "len(a)"
   ]
  },
  {
   "cell_type": "code",
   "execution_count": 3,
   "id": "cf0dfc9a",
   "metadata": {},
   "outputs": [
    {
     "data": {
      "text/plain": [
       "'b'"
      ]
     },
     "execution_count": 3,
     "metadata": {},
     "output_type": "execute_result"
    }
   ],
   "source": [
    "a[1]"
   ]
  },
  {
   "cell_type": "code",
   "execution_count": 4,
   "id": "f655032b",
   "metadata": {},
   "outputs": [],
   "source": [
    "x, y , z = a"
   ]
  },
  {
   "cell_type": "code",
   "execution_count": 5,
   "id": "fa8b34dc",
   "metadata": {},
   "outputs": [
    {
     "data": {
      "text/plain": [
       "'a'"
      ]
     },
     "execution_count": 5,
     "metadata": {},
     "output_type": "execute_result"
    }
   ],
   "source": [
    "x"
   ]
  },
  {
   "cell_type": "code",
   "execution_count": 6,
   "id": "0f5d7a1d",
   "metadata": {},
   "outputs": [
    {
     "data": {
      "text/plain": [
       "'b'"
      ]
     },
     "execution_count": 6,
     "metadata": {},
     "output_type": "execute_result"
    }
   ],
   "source": [
    "y"
   ]
  },
  {
   "cell_type": "code",
   "execution_count": 7,
   "id": "caad1ea7",
   "metadata": {},
   "outputs": [
    {
     "data": {
      "text/plain": [
       "'c'"
      ]
     },
     "execution_count": 7,
     "metadata": {},
     "output_type": "execute_result"
    }
   ],
   "source": [
    "z"
   ]
  },
  {
   "cell_type": "code",
   "execution_count": 8,
   "id": "6afc1a18",
   "metadata": {},
   "outputs": [],
   "source": [
    "bb = 'A test string'"
   ]
  },
  {
   "cell_type": "code",
   "execution_count": 9,
   "id": "baf1ffff",
   "metadata": {},
   "outputs": [],
   "source": [
    "blist0 = bb.split()"
   ]
  },
  {
   "cell_type": "code",
   "execution_count": 10,
   "id": "a025b5d4",
   "metadata": {},
   "outputs": [
    {
     "data": {
      "text/plain": [
       "['A', 'test', 'string']"
      ]
     },
     "execution_count": 10,
     "metadata": {},
     "output_type": "execute_result"
    }
   ],
   "source": [
    "blist0"
   ]
  },
  {
   "cell_type": "code",
   "execution_count": 11,
   "id": "f16336e8",
   "metadata": {},
   "outputs": [],
   "source": [
    "blist1 = bb.split('i')"
   ]
  },
  {
   "cell_type": "code",
   "execution_count": 12,
   "id": "e55e47fe",
   "metadata": {},
   "outputs": [
    {
     "data": {
      "text/plain": [
       "['A test str', 'ng']"
      ]
     },
     "execution_count": 12,
     "metadata": {},
     "output_type": "execute_result"
    }
   ],
   "source": [
    "blist1"
   ]
  },
  {
   "cell_type": "code",
   "execution_count": 13,
   "id": "ccde8cd9",
   "metadata": {},
   "outputs": [],
   "source": [
    "aa = a + 'ABC'"
   ]
  },
  {
   "cell_type": "code",
   "execution_count": 14,
   "id": "8b13c1f3",
   "metadata": {},
   "outputs": [
    {
     "data": {
      "text/plain": [
       "'abcABC'"
      ]
     },
     "execution_count": 14,
     "metadata": {},
     "output_type": "execute_result"
    }
   ],
   "source": [
    "aa"
   ]
  },
  {
   "cell_type": "code",
   "execution_count": 15,
   "id": "83baf890",
   "metadata": {},
   "outputs": [],
   "source": [
    "aaa = a * 3"
   ]
  },
  {
   "cell_type": "code",
   "execution_count": 16,
   "id": "c416f993",
   "metadata": {},
   "outputs": [
    {
     "data": {
      "text/plain": [
       "'abcabcabc'"
      ]
     },
     "execution_count": 16,
     "metadata": {},
     "output_type": "execute_result"
    }
   ],
   "source": [
    "aaa"
   ]
  }
 ],
 "metadata": {
  "kernelspec": {
   "display_name": "Python 3",
   "language": "python",
   "name": "python3"
  },
  "language_info": {
   "codemirror_mode": {
    "name": "ipython",
    "version": 3
   },
   "file_extension": ".py",
   "mimetype": "text/x-python",
   "name": "python",
   "nbconvert_exporter": "python",
   "pygments_lexer": "ipython3",
   "version": "3.8.8"
  }
 },
 "nbformat": 4,
 "nbformat_minor": 5
}
