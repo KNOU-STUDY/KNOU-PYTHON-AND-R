{
 "cells": [
  {
   "cell_type": "code",
   "execution_count": 1,
   "id": "4491126e",
   "metadata": {},
   "outputs": [],
   "source": [
    "mystr = 'abcdeabcab'"
   ]
  },
  {
   "cell_type": "code",
   "execution_count": 2,
   "id": "b5426d4e",
   "metadata": {},
   "outputs": [],
   "source": [
    "n0 = mystr.count('ab')"
   ]
  },
  {
   "cell_type": "code",
   "execution_count": 3,
   "id": "9c84b887",
   "metadata": {},
   "outputs": [],
   "source": [
    "n1 = mystr.find('ab')"
   ]
  },
  {
   "cell_type": "code",
   "execution_count": 4,
   "id": "6271d3ed",
   "metadata": {},
   "outputs": [],
   "source": [
    "n2 = mystr.rfind('ab')"
   ]
  },
  {
   "cell_type": "code",
   "execution_count": 5,
   "id": "07afa83b",
   "metadata": {},
   "outputs": [],
   "source": [
    "newstr = mystr.replace('ab','AB')"
   ]
  },
  {
   "cell_type": "code",
   "execution_count": 6,
   "id": "b6c67a6b",
   "metadata": {},
   "outputs": [
    {
     "data": {
      "text/plain": [
       "3"
      ]
     },
     "execution_count": 6,
     "metadata": {},
     "output_type": "execute_result"
    }
   ],
   "source": [
    "n0"
   ]
  },
  {
   "cell_type": "code",
   "execution_count": 7,
   "id": "01c3bed8",
   "metadata": {},
   "outputs": [
    {
     "data": {
      "text/plain": [
       "0"
      ]
     },
     "execution_count": 7,
     "metadata": {},
     "output_type": "execute_result"
    }
   ],
   "source": [
    "n1"
   ]
  },
  {
   "cell_type": "code",
   "execution_count": 8,
   "id": "d5a137e1",
   "metadata": {},
   "outputs": [
    {
     "data": {
      "text/plain": [
       "8"
      ]
     },
     "execution_count": 8,
     "metadata": {},
     "output_type": "execute_result"
    }
   ],
   "source": [
    "n2"
   ]
  },
  {
   "cell_type": "code",
   "execution_count": 9,
   "id": "d845be6e",
   "metadata": {},
   "outputs": [
    {
     "data": {
      "text/plain": [
       "'ABcdeABcAB'"
      ]
     },
     "execution_count": 9,
     "metadata": {},
     "output_type": "execute_result"
    }
   ],
   "source": [
    "newstr"
   ]
  }
 ],
 "metadata": {
  "kernelspec": {
   "display_name": "Python 3",
   "language": "python",
   "name": "python3"
  },
  "language_info": {
   "codemirror_mode": {
    "name": "ipython",
    "version": 3
   },
   "file_extension": ".py",
   "mimetype": "text/x-python",
   "name": "python",
   "nbconvert_exporter": "python",
   "pygments_lexer": "ipython3",
   "version": "3.8.8"
  }
 },
 "nbformat": 4,
 "nbformat_minor": 5
}
