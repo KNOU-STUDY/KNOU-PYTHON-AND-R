{
 "cells": [
  {
   "cell_type": "code",
   "execution_count": 1,
   "id": "2933af6e",
   "metadata": {},
   "outputs": [],
   "source": [
    "birthyear <- function(){\n",
    "    age <- readline(prompt='Enter age: ')\n",
    "    curyear <- as.numeric(format(Sys.Date(), '%Y'))\n",
    "    b.year <- curyear~as.numeric(age)\n",
    "    list(born.year=b.year)\n",
    "}"
   ]
  },
  {
   "cell_type": "code",
   "execution_count": 2,
   "id": "6e4f4997",
   "metadata": {},
   "outputs": [
    {
     "name": "stdout",
     "output_type": "stream",
     "text": [
      "Enter age: 50\n"
     ]
    },
    {
     "data": {
      "text/plain": [
       "$born.year\n",
       "curyear ~ as.numeric(age)\n",
       "<environment: 0x7fea9f8314a0>\n"
      ]
     },
     "metadata": {},
     "output_type": "display_data"
    }
   ],
   "source": [
    "birthyear()"
   ]
  },
  {
   "cell_type": "code",
   "execution_count": null,
   "id": "a7eee3be",
   "metadata": {},
   "outputs": [],
   "source": []
  }
 ],
 "metadata": {
  "kernelspec": {
   "display_name": "R",
   "language": "R",
   "name": "ir"
  },
  "language_info": {
   "codemirror_mode": "r",
   "file_extension": ".r",
   "mimetype": "text/x-r-source",
   "name": "R",
   "pygments_lexer": "r",
   "version": "4.0.3"
  }
 },
 "nbformat": 4,
 "nbformat_minor": 5
}
