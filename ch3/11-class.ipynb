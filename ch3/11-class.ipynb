{
 "cells": [
  {
   "cell_type": "code",
   "execution_count": 1,
   "id": "3cd92f20",
   "metadata": {},
   "outputs": [],
   "source": [
    "class Person:\n",
    "    # __init__ 메소드(멤버 함수)는 생성자이다.\n",
    "    def __init__(self, name, age):\n",
    "        self.name = name\n",
    "        self.age = age\n",
    "    def disp(self):\n",
    "        print(self.name)\n",
    "        print(self.age)"
   ]
  },
  {
   "cell_type": "code",
   "execution_count": 2,
   "id": "5cfd7d14",
   "metadata": {},
   "outputs": [],
   "source": [
    "p1 = Person('홍길동', 22)"
   ]
  },
  {
   "cell_type": "code",
   "execution_count": 3,
   "id": "711e501d",
   "metadata": {},
   "outputs": [],
   "source": [
    "p2 = Person('철수', 35)"
   ]
  },
  {
   "cell_type": "code",
   "execution_count": 4,
   "id": "55aa61b8",
   "metadata": {},
   "outputs": [
    {
     "name": "stdout",
     "output_type": "stream",
     "text": [
      "홍길동\n",
      "22\n"
     ]
    }
   ],
   "source": [
    "p1.disp()"
   ]
  },
  {
   "cell_type": "code",
   "execution_count": 5,
   "id": "b0e19b00",
   "metadata": {},
   "outputs": [
    {
     "name": "stdout",
     "output_type": "stream",
     "text": [
      "철수\n",
      "35\n"
     ]
    }
   ],
   "source": [
    "p2.disp()"
   ]
  },
  {
   "cell_type": "code",
   "execution_count": 6,
   "id": "3768fb06",
   "metadata": {},
   "outputs": [
    {
     "data": {
      "text/plain": [
       "<__main__.Person at 0x7fcf0031f7f0>"
      ]
     },
     "execution_count": 6,
     "metadata": {},
     "output_type": "execute_result"
    }
   ],
   "source": [
    "p1"
   ]
  },
  {
   "cell_type": "code",
   "execution_count": 7,
   "id": "b1aeacd8",
   "metadata": {},
   "outputs": [
    {
     "data": {
      "text/plain": [
       "<__main__.Person at 0x7fcf0031f8e0>"
      ]
     },
     "execution_count": 7,
     "metadata": {},
     "output_type": "execute_result"
    }
   ],
   "source": [
    "p2"
   ]
  },
  {
   "cell_type": "code",
   "execution_count": 37,
   "id": "4e27df9b",
   "metadata": {},
   "outputs": [],
   "source": [
    "class NewPerson:\n",
    "    def __init__(self, name, age):\n",
    "        self.name = name\n",
    "        self.age = age\n",
    "    def disp(self):\n",
    "        print(self.name)\n",
    "        print(self.age)\n",
    "    # __repr__함수를 정의하면 외부에서 그냥 변수이름으로 출력가능\n",
    "    def __repr__(self):\n",
    "        return str(self.name) + '|' + str(self.age) "
   ]
  },
  {
   "cell_type": "code",
   "execution_count": 38,
   "id": "a1ac79bc",
   "metadata": {},
   "outputs": [],
   "source": [
    "p3 = NewPerson('홍길동', 22)"
   ]
  },
  {
   "cell_type": "code",
   "execution_count": 39,
   "id": "0a22fc86",
   "metadata": {},
   "outputs": [],
   "source": [
    "p4 = NewPerson('철수', 35)"
   ]
  },
  {
   "cell_type": "code",
   "execution_count": 40,
   "id": "75203daa",
   "metadata": {},
   "outputs": [
    {
     "data": {
      "text/plain": [
       "홍길동|22"
      ]
     },
     "execution_count": 40,
     "metadata": {},
     "output_type": "execute_result"
    }
   ],
   "source": [
    "p3"
   ]
  },
  {
   "cell_type": "code",
   "execution_count": 41,
   "id": "59d348d3",
   "metadata": {},
   "outputs": [
    {
     "data": {
      "text/plain": [
       "철수|35"
      ]
     },
     "execution_count": 41,
     "metadata": {},
     "output_type": "execute_result"
    }
   ],
   "source": [
    "p4"
   ]
  },
  {
   "cell_type": "code",
   "execution_count": 50,
   "id": "e3c58897",
   "metadata": {},
   "outputs": [],
   "source": [
    "class Person2:\n",
    "    # input은 사용자에게 입력받는 함수이다.\n",
    "    def __init__(self):\n",
    "        self.name = input('Name:')\n",
    "        self.age = input('Age:')\n",
    "    def disprint(self):\n",
    "        print('Name = ', self.name)\n",
    "        print('Age = ', self.age)"
   ]
  },
  {
   "cell_type": "code",
   "execution_count": 51,
   "id": "d7a44aef",
   "metadata": {},
   "outputs": [
    {
     "name": "stdout",
     "output_type": "stream",
     "text": [
      "Name:AAA\n",
      "Age:12\n",
      "Name:BBB\n",
      "Age:25\n",
      "Name:CCC\n",
      "Age:38\n",
      "Name:DDD\n",
      "Age:51\n",
      "Name:EEE\n",
      "Age:64\n"
     ]
    }
   ],
   "source": [
    "customer = []\n",
    "for i in range(5):\n",
    "    customer.append(Person2())"
   ]
  },
  {
   "cell_type": "code",
   "execution_count": 52,
   "id": "aeec80b8",
   "metadata": {},
   "outputs": [
    {
     "data": {
      "text/plain": [
       "<__main__.Person2 at 0x7fcf00303d60>"
      ]
     },
     "execution_count": 52,
     "metadata": {},
     "output_type": "execute_result"
    }
   ],
   "source": [
    "customer[0]"
   ]
  },
  {
   "cell_type": "code",
   "execution_count": 53,
   "id": "f5739b7b",
   "metadata": {},
   "outputs": [
    {
     "name": "stdout",
     "output_type": "stream",
     "text": [
      "Name =  AAA\n",
      "Age =  12\n"
     ]
    }
   ],
   "source": [
    "customer[0].disprint()"
   ]
  },
  {
   "cell_type": "code",
   "execution_count": 54,
   "id": "5eacfaf0",
   "metadata": {},
   "outputs": [
    {
     "name": "stdout",
     "output_type": "stream",
     "text": [
      "Name =  BBB\n",
      "Age =  25\n"
     ]
    }
   ],
   "source": [
    "customer[1].disprint()"
   ]
  },
  {
   "cell_type": "code",
   "execution_count": 55,
   "id": "889b95c1",
   "metadata": {},
   "outputs": [
    {
     "name": "stdout",
     "output_type": "stream",
     "text": [
      "Name =  AAA\n",
      "Age =  12\n",
      "Name =  BBB\n",
      "Age =  25\n",
      "Name =  CCC\n",
      "Age =  38\n",
      "Name =  DDD\n",
      "Age =  51\n",
      "Name =  EEE\n",
      "Age =  64\n"
     ]
    }
   ],
   "source": [
    "for i in range(5):\n",
    "    customer[i].disprint()"
   ]
  },
  {
   "cell_type": "code",
   "execution_count": 57,
   "id": "5b6318eb",
   "metadata": {},
   "outputs": [
    {
     "name": "stdout",
     "output_type": "stream",
     "text": [
      "Name =  AAA\n",
      "Age =  12\n",
      "Name =  BBB\n",
      "Age =  25\n",
      "Name =  CCC\n",
      "Age =  38\n",
      "Name =  DDD\n",
      "Age =  51\n",
      "Name =  EEE\n",
      "Age =  64\n"
     ]
    }
   ],
   "source": [
    "for i in customer:\n",
    "    i.disprint()"
   ]
  },
  {
   "cell_type": "code",
   "execution_count": 60,
   "id": "b1ea15f8",
   "metadata": {},
   "outputs": [
    {
     "name": "stdout",
     "output_type": "stream",
     "text": [
      "Name =  AAA\n",
      "Age =  12\n",
      "Name =  BBB\n",
      "Age =  25\n",
      "Name =  CCC\n",
      "Age =  38\n",
      "Name =  DDD\n",
      "Age =  51\n",
      "Name =  EEE\n",
      "Age =  64\n"
     ]
    },
    {
     "data": {
      "text/plain": [
       "[None, None, None, None, None]"
      ]
     },
     "execution_count": 60,
     "metadata": {},
     "output_type": "execute_result"
    }
   ],
   "source": [
    "[i.disprint() for i in customer]"
   ]
  },
  {
   "cell_type": "code",
   "execution_count": null,
   "id": "2c37bb9b",
   "metadata": {},
   "outputs": [],
   "source": []
  }
 ],
 "metadata": {
  "kernelspec": {
   "display_name": "Python 3",
   "language": "python",
   "name": "python3"
  },
  "language_info": {
   "codemirror_mode": {
    "name": "ipython",
    "version": 3
   },
   "file_extension": ".py",
   "mimetype": "text/x-python",
   "name": "python",
   "nbconvert_exporter": "python",
   "pygments_lexer": "ipython3",
   "version": "3.8.8"
  }
 },
 "nbformat": 4,
 "nbformat_minor": 5
}
