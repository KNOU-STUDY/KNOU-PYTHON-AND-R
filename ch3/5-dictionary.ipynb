{
 "cells": [
  {
   "cell_type": "code",
   "execution_count": 2,
   "id": "232cc9d4",
   "metadata": {},
   "outputs": [],
   "source": [
    "me = {'height':180, 'weight':70}"
   ]
  },
  {
   "cell_type": "code",
   "execution_count": 3,
   "id": "9d763a1e",
   "metadata": {},
   "outputs": [
    {
     "data": {
      "text/plain": [
       "180"
      ]
     },
     "execution_count": 3,
     "metadata": {},
     "output_type": "execute_result"
    }
   ],
   "source": [
    "me['height']"
   ]
  },
  {
   "cell_type": "code",
   "execution_count": 4,
   "id": "d60c0703",
   "metadata": {},
   "outputs": [
    {
     "data": {
      "text/plain": [
       "70"
      ]
     },
     "execution_count": 4,
     "metadata": {},
     "output_type": "execute_result"
    }
   ],
   "source": [
    "me['weight']"
   ]
  },
  {
   "cell_type": "code",
   "execution_count": 5,
   "id": "c08552cb",
   "metadata": {},
   "outputs": [],
   "source": [
    "me['age'] = 30"
   ]
  },
  {
   "cell_type": "code",
   "execution_count": 6,
   "id": "343605e3",
   "metadata": {},
   "outputs": [
    {
     "data": {
      "text/plain": [
       "{'height': 180, 'weight': 70, 'age': 30}"
      ]
     },
     "execution_count": 6,
     "metadata": {},
     "output_type": "execute_result"
    }
   ],
   "source": [
    "me"
   ]
  },
  {
   "cell_type": "code",
   "execution_count": null,
   "id": "2cbe2ab9",
   "metadata": {},
   "outputs": [],
   "source": []
  }
 ],
 "metadata": {
  "kernelspec": {
   "display_name": "Python 3",
   "language": "python",
   "name": "python3"
  },
  "language_info": {
   "codemirror_mode": {
    "name": "ipython",
    "version": 3
   },
   "file_extension": ".py",
   "mimetype": "text/x-python",
   "name": "python",
   "nbconvert_exporter": "python",
   "pygments_lexer": "ipython3",
   "version": "3.8.8"
  }
 },
 "nbformat": 4,
 "nbformat_minor": 5
}
